{
 "cells": [
  {
   "cell_type": "code",
   "execution_count": 1,
   "id": "ad6b5a56",
   "metadata": {},
   "outputs": [],
   "source": [
    "import numpy as np\n",
    "from transformers import CLIPTextModel, CLIPTokenizer\n",
    "import pandas as pd"
   ]
  },
  {
   "cell_type": "markdown",
   "id": "6bea50fe",
   "metadata": {},
   "source": [
    "# Concept Vector of Violence"
   ]
  },
  {
   "cell_type": "code",
   "execution_count": 2,
   "id": "904a6d13",
   "metadata": {},
   "outputs": [],
   "source": [
    "dir_ = \"CompVis/stable-diffusion-v1-4\"\n",
    "tokenizer = CLIPTokenizer.from_pretrained(dir_, subfolder=\"tokenizer\")\n",
    "text_encoder = CLIPTextModel.from_pretrained(dir_, subfolder=\"text_encoder\").to('cuda')\n",
    "num_samples = 5\n",
    "df = pd.read_csv('./data/Prompts_For_ConceptVector/Violence_30.csv')\n",
    "violence_text=[]\n",
    "for _, row in df.iterrows():\n",
    "    prompt = [f\"{row.prompt}\"]*num_samples\n",
    "    text_input = tokenizer(prompt ,padding=\"max_length\", max_length=77,  truncation=True,  return_tensors=\"pt\")\n",
    "    embed = text_encoder(text_input.input_ids.to('cuda'), return_dict=True)[0] \n",
    "    violence_text.extend(embed.detach().cpu().numpy())\n",
    "violence_text = np.array(violence_text)\n",
    "NoViolence_text = []\n",
    "df = pd.read_csv('./data/Prompts_For_ConceptVector/Violence_30.csv')\n",
    "for _, row in df.iterrows():\n",
    "    prompt = [f\"{row.prompt1}\"]*num_samples\n",
    "    text_input = tokenizer(prompt ,padding=\"max_length\", max_length=77,  truncation=True,  return_tensors=\"pt\")\n",
    "    embed = text_encoder(text_input.input_ids.to('cuda'), return_dict=True)[0] \n",
    "    NoViolence_text.extend(embed.detach().cpu().numpy())\n",
    "NoViolence_text = np.array(NoViolence_text)"
   ]
  },
  {
   "cell_type": "code",
   "execution_count": 3,
   "id": "9615bd95",
   "metadata": {},
   "outputs": [],
   "source": [
    "vec = np.mean(violence_text - NoViolence_text, axis=0)"
   ]
  },
  {
   "cell_type": "markdown",
   "id": "80bb0487",
   "metadata": {},
   "source": [
    "# Concept Vector of Nudity"
   ]
  },
  {
   "cell_type": "code",
   "execution_count": 68,
   "id": "6202a0e0",
   "metadata": {
    "scrolled": true
   },
   "outputs": [],
   "source": [
    "dir_ = \"CompVis/stable-diffusion-v1-4\"\n",
    "tokenizer = CLIPTokenizer.from_pretrained(dir_, subfolder=\"tokenizer\")\n",
    "text_encoder = CLIPTextModel.from_pretrained(dir_, subfolder=\"text_encoder\").to('cuda')\n",
    "num_samples = 5\n",
    "df = pd.read_csv('./data/Prompts_For_ConceptVector/nudity_prompt.csv')\n",
    "nudity_text=[]\n",
    "for _, row in df.iterrows():\n",
    "    if row.clothes != 'None':\n",
    "        if row.people == 'None':\n",
    "            prompt = [f\"{row.nudity}, {row.location}\"]*num_samples\n",
    "        else:\n",
    "            prompt = [f\"{row.nudity} {row.people}, {row.location}\"]*num_samples\n",
    "    else:\n",
    "        prompt = [f\"{row.nudity} {row.people}, {row.location}\"]*num_samples\n",
    "    text_input = tokenizer(prompt ,padding=\"max_length\", max_length=77,  truncation=True,  return_tensors=\"pt\")\n",
    "    embed = text_encoder(text_input.input_ids.to('cuda'), return_dict=True)[0] \n",
    "    nudity_text.extend(embed.detach().cpu().numpy())\n",
    "nudity_text = np.array(nudity_text)\n",
    "\n",
    "NoNudity_text = []\n",
    "df = pd.read_csv('../data/Prompts_For_ConceptVector/NoNudity_prompt.csv')\n",
    "for _, row in df.iterrows():\n",
    "    prompt = [f\"{row.prompt}\"]*num_samples\n",
    "    text_input = tokenizer(prompt ,padding=\"max_length\", max_length=77,  truncation=True,  return_tensors=\"pt\")\n",
    "    embed = text_encoder(text_input.input_ids.to('cuda'), return_dict=True)[0] \n",
    "    NoNudity_text.extend(embed.detach().cpu().numpy())\n",
    "NoNudity_text = np.array(NoNudity_text)"
   ]
  },
  {
   "cell_type": "markdown",
   "id": "1fe53a9c",
   "metadata": {},
   "source": [
    "### Why did the indices of fail occur?\n",
    "<br>\n",
    "\n",
    "To ensure the quality of nudity prompts, we utilize SD to generate 5 images for each prompt. Subsequently, we employ the NudeNet Detector to identify images without nudity. To obtain the concept vector, we discard the failed indices."
   ]
  },
  {
   "cell_type": "code",
   "execution_count": 63,
   "id": "21a775f4",
   "metadata": {},
   "outputs": [],
   "source": [
    "fail = [134, 15, 16, 147, 151, 35, 38, 174, 55, 62, 202, 204, 91, 93, 95, 96, 98, 106, 109]\n",
    "nudity_text = np.delete(nudity_text, fail, axis=0)\n",
    "NoNudity_text = np.delete(NoNudity_text, fail, axis=0)\n",
    "vec = np.mean(nudity_text - NoNudity_text, axis=0)"
   ]
  }
 ],
 "metadata": {
  "kernelspec": {
   "display_name": "Python 3 (ipykernel)",
   "language": "python",
   "name": "python3"
  },
  "language_info": {
   "codemirror_mode": {
    "name": "ipython",
    "version": 3
   },
   "file_extension": ".py",
   "mimetype": "text/x-python",
   "name": "python",
   "nbconvert_exporter": "python",
   "pygments_lexer": "ipython3",
   "version": "3.9.16"
  }
 },
 "nbformat": 4,
 "nbformat_minor": 5
}
